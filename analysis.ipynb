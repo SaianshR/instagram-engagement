{
 "cells": [
  {
   "cell_type": "markdown",
   "metadata": {},
   "source": [
    "**Task B, Regression Assessment**\n",
    "</br>\n",
    "<p>We achieved the following scores for three regressions conducted:</p>\n",
    "<table>\n",
    "    <tr>\n",
    "        <th colspan=\"3\">Regression Assessment</th>\n",
    "    </tr>\n",
    "    <tr>\n",
    "        <th>Image Labels</th>\n",
    "        <th>Post Captions</th>\n",
    "        <th>Image Labels + Post Captions</th>\n",
    "    </tr>\n",
    "    <tr>\n",
    "        <td>67.71%</td>\n",
    "        <td>72.60%</td>\n",
    "        <td>73.19%</td>\n",
    "    </tr>\n",
    "</table>\n",
    "\n",
    "<p>Looking at the accuracies of the different logistic regressions that are using post captions, image labels, and the combinations of both, post captions get a higher accuracy than the image labels. Although, image labels leverage the power of Google's machine learning models that are fed with billions or more images to create an accurate model, captions on the image posts themselves identify the image better as often times the caption states what is in the image. The combination of both models, in contrast, presents a further increase in accuracy; therefore, it is suggested that NatGeo use both image labels and post captions to optimize and increase the accuracy of the Logistic Regression for predicting high engagement posts.</p>\n",
    "<b>Confusion Matrices</b><br>\n",
    "<img src=\"Confusion_Matrix_image_labels.png\" width=\"300\" height=\"300\">\n",
    "<img src=\"Confusion_Matrix_post_captions.png\" width=\"300\" height=\"300\">\n",
    "<img src=\"Confusion_Matrix_both.png\" width=\"300\" height=\"300\">"
   ]
  },
  {
   "cell_type": "markdown",
   "metadata": {},
   "source": [
    "## Task C, Image Supplement\n",
    "<img src=\"TaskC_TopicScores.png\" width=\"600\" height=\"100\">"
   ]
  },
  {
   "cell_type": "markdown",
   "metadata": {},
   "source": [
    "## Task D, Revised Analysis\n",
    "<p>Notes on changes: </p>\n",
    "<p>1) added a mention of word theme to second paragraph on difference between list 1 and 5 for \"High Engagement Post Analysis\"</p>\n",
    "<p>2) For \"Low Engagement Post Analysis\", I added a dependent clause emphasizing the human element for the 2nd paragraph on List 3.</p>\n",
    "<p>3) For \"Low Engagement Post Analysis\", for the last paragraph, on List 4, could be rephrased/re-worded to show that NatGeo's brand attracts nature-lovers; particularly, that is its brand: \"Natural Geographic.\"</p>\n",
    "<p>4) Should the 5th List also be mentioned in the \"Low Engagement Post Analysis\"?</p>"
   ]
  },
  {
   "cell_type": "markdown",
   "metadata": {},
   "source": [
    "\n",
    "<h5>High Engagement Post Analysis</h5>\n",
    "\n",
    "<p>Keywords from List 1 indicate a natural environment, with flora and fauna represented in reasonable proportions in the picture. The engagement score for these keywords is one of the highest in the third quartile of posts (by engagement). This is Nat Geo's regular programming, so the frequency of such posts might influence the high engagement scores. Regardless, it seems to be a core strength of the Instagram page and is a steady stream of engagement. We recommend that such posts continue.</p>\n",
    "<p>While List 1 has several keywords in common with List 5 (set of keywords with the lowest engagement), it is important to note some keywords that set List 1 apart are \"Animal\" and \"Organism\". The main distinction between List 1 and List 5 is the theme of \"Life\" that is more readily conveyed through images of \"Animals\" rather than elements of nature, \"Water\" and \"Mountain,\" which people often need to personify. This means that pictures of something specific, usually an animal, would draw more engagement as opposed to general pictures of nature. List 5 thus consists of keywords with a similar theme that fall short on engagement due to certain specific characteristics.</p>\n",
    "<p>Keywords from List 2 point towards a proclivity for pictures of big cats, usually shown on the hunt or devouring their prey. Posts with these keywords have shown the highest engagement among all keywords, and rarely appear in the lower quartile of posts. We feel that the shock and awe created by these pictures is, qualitatively, a major driving factor in high engagement. Thus, apart from feline predators on the hunt, posts with similar shock value may drive higher engagement.</p>\n",
    "<p>Another perspective on the keywords from List 2 is that adorable pictures of these vicious feline predators' cubs are also highly valuable in terms of engagement, owing to their Cuteness Factor.</p>"
   ]
  },
  {
   "cell_type": "markdown",
   "metadata": {},
   "source": [
    "<h5>Low Engagement Post Analysis</h5>\n",
    "\n",
    "<p>The low engagement on these sets of keywords should prompt either a rework of how such content is presented, or a gradual phasing out of such themes altogether.</p>\n",
    "\n",
    "<p>List 3 appears to follow artsy themes depicting events conducted outdoors involving a group of people. Keywords like \"Fashion\" and \"Photography\" indicate pictures involving lifestyle and haute couture. Unfortunately, these topics, concerning human and human material things, do not appear to have high engagement at all.</p>\n",
    "\n",
    "<p>The keywords in List 4 indicate urban environments far removed from the natural environments frequently depicted on Nat Geo's page. We believe these are jarring exceptions in a feed where nature-related themes attract and sustain engagement from viewers.</p>"
   ]
  },
  {
   "cell_type": "markdown",
   "metadata": {},
   "source": [
    "* Rephrased Last paragraph\n",
    "<br> The keywords in List 4 invoke the theme of \"Urban\" or \"Suburban\" which is in contrast to NatGeo's other themes of \"Life\", \"Nature\", and \"Geography\" hence, where their name comes from. This list of keywords shows a subversion of the viewers' expectations and the result of an un-engaged audience. It is recommended to phase out this content and produce more content in-line with viewer expectations."
   ]
  }
 ],
 "metadata": {
  "kernelspec": {
   "display_name": "Python 3.10.1 64-bit",
   "language": "python",
   "name": "python3"
  },
  "language_info": {
   "name": "python",
   "version": "3.10.1"
  },
  "orig_nbformat": 4,
  "vscode": {
   "interpreter": {
    "hash": "aee8b7b246df8f9039afb4144a1f6fd8d2ca17a180786b69acc140d282b71a49"
   }
  }
 },
 "nbformat": 4,
 "nbformat_minor": 2
}
