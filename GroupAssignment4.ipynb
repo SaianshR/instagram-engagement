{
 "cells": [
  {
   "cell_type": "markdown",
   "metadata": {},
   "source": [
    "# Assignment 4\n",
    "<strong> Group Members: </strong> Domitille Chambon, Sam D'Avila, Steven Hobson, Saiansh Raizada, Johann Thomas, & Purva Tiwari"
   ]
  },
  {
   "cell_type": "markdown",
   "metadata": {},
   "source": [
    "## Packages"
   ]
  },
  {
   "cell_type": "code",
   "execution_count": 1,
   "metadata": {},
   "outputs": [],
   "source": [
    "import pandas as pd\n",
    "import os\n",
    "from google.cloud import vision\n",
    "from google.cloud.vision_v1 import types\n",
    "\n",
    "from sklearn.model_selection import train_test_split\n",
    "from sklearn.linear_model import LogisticRegression\n",
    "from sklearn.metrics import accuracy_score\n",
    "\n",
    "from nltk.tokenize import word_tokenize\n",
    "from nltk.corpus import stopwords\n",
    "from nltk.stem.snowball import SnowballStemmer\n",
    "from sklearn.feature_extraction.text import TfidfVectorizer\n",
    "from sklearn.metrics import confusion_matrix\n",
    "from sklearn import model_selection\n",
    "import numpy as np\n",
    "\n",
    "import matplotlib.pyplot as plt\n",
    "\n",
    "import csv, nltk, lda\n",
    "from nltk.tokenize import PunktSentenceTokenizer, RegexpTokenizer\n",
    "from nltk.corpus import stopwords\n",
    "from nltk.stem import WordNetLemmatizer\n",
    "from scipy import sparse\n",
    "from sklearn.feature_extraction.text import TfidfVectorizer\n",
    "from sklearn.metrics.pairwise import cosine_similarity\n",
    "from sklearn.feature_extraction.text import CountVectorizer\n",
    "\n",
    "from nltk.tokenize import PunktSentenceTokenizer,RegexpTokenizer\n",
    "from nltk.corpus import stopwords\n",
    "from nltk.stem import WordNetLemmatizer"
   ]
  },
  {
   "cell_type": "markdown",
   "metadata": {},
   "source": [
    "## Task A - Engagement Metric"
   ]
  },
  {
   "cell_type": "code",
   "execution_count": 3,
   "metadata": {},
   "outputs": [],
   "source": [
    "# Read in data\n",
    "raw = pd.read_csv(\"NatGeo Scrape 11-27.csv\")"
   ]
  },
  {
   "cell_type": "code",
   "execution_count": 5,
   "metadata": {},
   "outputs": [],
   "source": [
    "# Normalize function\n",
    "def normalize(df, column, rowVal):\n",
    "    \"\"\" Normalize values within a column\"\"\"\n",
    "    sumCount = df[column].max()\n",
    "    return float(rowVal) / float(sumCount)\n",
    "\n",
    "# Binary function\n",
    "def binary(val):\n",
    "    \"\"\" Determine engagement score to be either 0 or 1\"\"\"\n",
    "    median = raw[\"EngagementScore\"].median()\n",
    "    if val >= median:\n",
    "        return 1\n",
    "    elif val < median:\n",
    "        return 0"
   ]
  },
  {
   "cell_type": "code",
   "execution_count": 6,
   "metadata": {},
   "outputs": [],
   "source": [
    "# Normalizing # of likes and # of comments\n",
    "raw[\"NormLikes\"] = raw[\"likeCount\"].apply(lambda x: normalize(raw, \"likeCount\", x))\n",
    "raw[\"NormComments\"] = raw[\"commentCount\"].apply(lambda x: normalize(raw, \"commentCount\", x))\n",
    "\n",
    "# Create engagement score\n",
    "raw[\"EngagementScore\"] = raw[\"NormLikes\"].apply(lambda x: x * .4) + raw[\"NormComments\"].apply(lambda x: x * .6)\n",
    "\n",
    "# Create binary engagement score\n",
    "raw[\"BinEngagementScore\"] = raw[\"EngagementScore\"].apply(lambda x: binary(x))"
   ]
  },
  {
   "cell_type": "markdown",
   "metadata": {},
   "source": [
    "## Google Vision"
   ]
  },
  {
   "cell_type": "code",
   "execution_count": 8,
   "metadata": {},
   "outputs": [],
   "source": [
    "# Google vision credentials \n",
    "os.environ['GOOGLE_APPLICATION_CREDENTIALS'] = 'summer-optics-369919-d156981281b2.json'\n",
    "client = vision.ImageAnnotatorClient()"
   ]
  },
  {
   "cell_type": "code",
   "execution_count": 9,
   "metadata": {},
   "outputs": [],
   "source": [
    "# Function obtaining image labels from Google Vision\n",
    "def googleVision(img):\n",
    "    \"\"\" Getting image labels \"\"\"\n",
    "    image = types.Image()\n",
    "    image.source.image_uri = img\n",
    "\n",
    "    response_label = client.label_detection(image=image)\n",
    "\n",
    "    imgLabel = [label.description for label in response_label.label_annotations]\n",
    "\n",
    "    return imgLabel"
   ]
  },
  {
   "cell_type": "code",
   "execution_count": 10,
   "metadata": {},
   "outputs": [],
   "source": [
    "# Creating column in dataframe with labels from Google Vision\n",
    "raw[\"Image Labels\"] = raw[\"imgUrl\"].apply(lambda x: googleVision(x))"
   ]
  },
  {
   "cell_type": "code",
   "execution_count": 12,
   "metadata": {},
   "outputs": [],
   "source": [
    "# Make dataframe with labels into a csv\n",
    "raw.to_csv(\"Labeled Geo Data.csv\", index= False)"
   ]
  },
  {
   "cell_type": "markdown",
   "metadata": {},
   "source": [
    "## Task B - Logistic Regression"
   ]
  },
  {
   "cell_type": "code",
   "execution_count": 21,
   "metadata": {},
   "outputs": [],
   "source": [
    "#Read labeled data (saved copy of csv with labels)\n",
    "labeledgeodata = pd.read_csv(\"Labeled Geo Data.csv\")"
   ]
  },
  {
   "cell_type": "code",
   "execution_count": 23,
   "metadata": {},
   "outputs": [],
   "source": [
    "stemmer = SnowballStemmer(\"english\")"
   ]
  },
  {
   "cell_type": "markdown",
   "metadata": {},
   "source": [
    "### Logistic Regression with Labeled Data"
   ]
  },
  {
   "cell_type": "code",
   "execution_count": 24,
   "metadata": {},
   "outputs": [
    {
     "data": {
      "text/plain": [
       "array([[173,  82],\n",
       "       [ 83, 173]])"
      ]
     },
     "execution_count": 24,
     "metadata": {},
     "output_type": "execute_result"
    }
   ],
   "source": [
    "#Logistic Regression with Labeled Data\n",
    "\n",
    "i=0\n",
    "\n",
    "#Read file\n",
    "df = pd.read_csv(\"Labeled Geo Data.csv\")\n",
    "df = df[['BinEngagementScore','Image Labels']]\n",
    "df = df.rename(columns={\"BinEngagementScore\":\"binary\",\"Image Labels\":\"text\"})\n",
    "\n",
    "def remove_punctuation(s):\n",
    "    no_punct = \"\"\n",
    "    for letter in s:\n",
    "        if letter not in string_punctuation:\n",
    "            no_punct += letter\n",
    "    return no_punct\n",
    "\n",
    "#Type Yes in Input Prompt\n",
    "\n",
    "#Read the text column---Last Column (Assumption)\n",
    "string_punctuation = '''()-[]{};:'\"\\,<>./?@#$%^&*_~1234567890'''\n",
    "stop = stopwords.words('english')\n",
    "df.iloc[ :, -1] = df.iloc[ :, -1].apply(lambda x: ' '.join([word for word in x.split() if word not in (stop)]))\n",
    "\n",
    "for row in df['text']:\n",
    "    df.iloc[ i, -1] = remove_punctuation(row)\n",
    "    i=i+1\n",
    "df['text'] = df['text'].str.replace(\"!\",\" !\")\n",
    "df['text'] = df['text'].apply(word_tokenize)\n",
    "df['text'] = df['text'].apply(lambda x: [stemmer.stem(y) for y in x])\n",
    "df['text'] = df['text'].apply(lambda x : \" \".join(x))\n",
    "Text_Column = df.iloc[ :, -1:]\n",
    "#Get TFIDF Scores\n",
    "sklearn_tfidf = TfidfVectorizer(min_df=.01, max_df =.95, stop_words=\"english\",use_idf=True, smooth_idf=False, sublinear_tf=True)\n",
    "sklearn_representation = sklearn_tfidf.fit_transform(Text_Column.iloc[:, 0].tolist())\n",
    "Tfidf_Output = pd.DataFrame(sklearn_representation.toarray(), columns=sklearn_tfidf.get_feature_names_out())\n",
    "\n",
    "#Append the column to the final dataset\n",
    "Input = pd.concat([df, Tfidf_Output], axis=1)\n",
    "Input = Input.drop(['text'], axis=1)    #python changed dropping columns\n",
    "# Input = Input.drop(['fit'], axis=1) #edited this out of Baruas code\n",
    "\n",
    "#split into training: 60 and testing set: 40\n",
    "train, test = train_test_split(Input, train_size = 0.6,random_state=1)\n",
    "X = Input.loc[:, Input.columns != 'binary']\n",
    "Y = Input['binary']\n",
    "X_test = test.loc[:, Input.columns != 'binary']\n",
    "Y_test = test['binary']\n",
    "\n",
    "#Logit Regression\n",
    "classifier = LogisticRegression()\n",
    "classifier.fit(X, Y)\n",
    "Y_pred = classifier.predict(X_test)\n",
    "\n",
    "Y_pred = model_selection.cross_val_predict(classifier, X, Y, cv=5)\n",
    "\n",
    "# Confusion matrix\n",
    "conf_matrix = confusion_matrix((np.array(Y)), Y_pred)\n",
    "conf_matrix"
   ]
  },
  {
   "cell_type": "code",
   "execution_count": 25,
   "metadata": {},
   "outputs": [
    {
     "data": {
      "image/png": "[encoded data removed]",
      "text/plain": [
       "<Figure size 750x750 with 1 Axes>"
      ]
     },
     "metadata": {},
     "output_type": "display_data"
    },
    {
     "name": "stdout",
     "output_type": "stream",
     "text": [
      "The TFID accuracy using the Labels is 0.6771\n"
     ]
    }
   ],
   "source": [
    "# Plot Confusion Matrix\n",
    "fig, ax = plt.subplots(figsize=(7.5, 7.5))\n",
    "ax.matshow(conf_matrix, cmap=plt.cm.Oranges, alpha=0.3)\n",
    "for i in range(conf_matrix.shape[0]):\n",
    "    for j in range(conf_matrix.shape[1]):\n",
    "        ax.text(x=j, y=i,s=conf_matrix[i, j], va='center', ha='center', size='xx-large')\n",
    " \n",
    "plt.xlabel('Predictions', fontsize=18)\n",
    "plt.ylabel('Actuals', fontsize=18)\n",
    "plt.title('Image Labels Confusion Matrix', fontsize=18)\n",
    "plt.show()\n",
    "acc = accuracy_score(Y,Y_pred)\n",
    "print(\"The TFID accuracy using the Labels is\",round(acc,4))\n"
   ]
  },
  {
   "cell_type": "markdown",
   "metadata": {},
   "source": [
    "### Logistic Regression with Image Captions"
   ]
  },
  {
   "cell_type": "code",
   "execution_count": 26,
   "metadata": {},
   "outputs": [
    {
     "data": {
      "text/plain": [
       "array([[177,  78],\n",
       "       [ 62, 194]])"
      ]
     },
     "execution_count": 26,
     "metadata": {},
     "output_type": "execute_result"
    }
   ],
   "source": [
    "#Logistic Regression with Image Captions\n",
    "i=0\n",
    "\n",
    "#Read file\n",
    "df = pd.read_csv(\"Labeled Geo Data.csv\")\n",
    "df = df[['BinEngagementScore','description']]\n",
    "df = df.rename(columns={\"BinEngagementScore\":\"binary\",\"description\":\"text\"})\n",
    "\n",
    "def remove_punctuation(s):\n",
    "    no_punct = \"\"\n",
    "    for letter in s:\n",
    "        if letter not in string_punctuation:\n",
    "            no_punct += letter\n",
    "    return no_punct\n",
    "\n",
    "#Read the text column---Last Column (Assumption)\n",
    "string_punctuation = '''()-[]{};:'\"\\,<>./?@#$%^&*_~1234567890'''\n",
    "stop = stopwords.words('english')\n",
    "df.iloc[ :, -1] = df.iloc[ :, -1].apply(lambda x: ' '.join([word for word in x.split() if word not in (stop)]))\n",
    "\n",
    "for row in df['text']:\n",
    "    df.iloc[ i, -1] = remove_punctuation(row)\n",
    "    i=i+1\n",
    "df['text'] = df['text'].str.replace(\"!\",\" !\")\n",
    "df['text'] = df['text'].apply(word_tokenize)\n",
    "df['text'] = df['text'].apply(lambda x: [stemmer.stem(y) for y in x])\n",
    "df['text'] = df['text'].apply(lambda x : \" \".join(x))\n",
    "Text_Column = df.iloc[ :, -1:]\n",
    "#Get TFIDF Scores\n",
    "sklearn_tfidf = TfidfVectorizer(min_df=.01, max_df =.95, stop_words=\"english\",use_idf=True, smooth_idf=False, sublinear_tf=True)\n",
    "sklearn_representation = sklearn_tfidf.fit_transform(Text_Column.iloc[:, 0].tolist())\n",
    "Tfidf_Output = pd.DataFrame(sklearn_representation.toarray(), columns=sklearn_tfidf.get_feature_names_out())\n",
    "\n",
    "#Append the column to the final dataset\n",
    "Input = pd.concat([df, Tfidf_Output], axis=1)\n",
    "Input = Input.drop(['text'], axis=1)    #python changed dropping columns\n",
    "# Input = Input.drop(['fit'], axis=1) #edited this out of Baruas code\n",
    "\n",
    "#split into training: 60 and testing set: 40\n",
    "train, test = train_test_split(Input, train_size = 0.6,random_state=1)\n",
    "X = Input.loc[:, Input.columns != 'binary']\n",
    "Y = Input['binary']\n",
    "X_test = test.loc[:, Input.columns != 'binary']\n",
    "Y_test = test['binary']\n",
    "\n",
    "#Logit Regression\n",
    "classifier = LogisticRegression()\n",
    "classifier.fit(X, Y)\n",
    "Y_pred = classifier.predict(X_test)\n",
    "\n",
    "Y_pred = model_selection.cross_val_predict(classifier, X, Y, cv=5)\n",
    "\n",
    "# Confusion matrix\n",
    "conf_matrix = confusion_matrix((np.array(Y)), Y_pred)\n",
    "conf_matrix"
   ]
  },
  {
   "cell_type": "code",
   "execution_count": 27,
   "metadata": {},
   "outputs": [
    {
     "data": {
      "image/png": "[encoded data removed]",
      "text/plain": [
       "<Figure size 750x750 with 1 Axes>"
      ]
     },
     "metadata": {},
     "output_type": "display_data"
    },
    {
     "name": "stdout",
     "output_type": "stream",
     "text": [
      "The TFID accuracy using the Captions is 0.726\n"
     ]
    }
   ],
   "source": [
    "# Plot Confusion Matrix\n",
    "fig, ax = plt.subplots(figsize=(7.5, 7.5))\n",
    "ax.matshow(conf_matrix, cmap=plt.cm.Blues, alpha=0.3)\n",
    "for i in range(conf_matrix.shape[0]):\n",
    "    for j in range(conf_matrix.shape[1]):\n",
    "        ax.text(x=j, y=i,s=conf_matrix[i, j], va='center', ha='center', size='xx-large')\n",
    " \n",
    "plt.xlabel('Predictions', fontsize=18)\n",
    "plt.ylabel('Actuals', fontsize=18)\n",
    "plt.title('Caption from Image Confusion Matrix', fontsize=18)\n",
    "plt.show()\n",
    "acc = accuracy_score(Y,Y_pred)\n",
    "print(\"The TFID accuracy using the Captions is\",round(acc,4))"
   ]
  },
  {
   "cell_type": "markdown",
   "metadata": {},
   "source": [
    "### Logistic Regression with Labeled Data + Captions"
   ]
  },
  {
   "cell_type": "code",
   "execution_count": 28,
   "metadata": {},
   "outputs": [
    {
     "data": {
      "text/plain": [
       "array([[183,  72],\n",
       "       [ 65, 191]])"
      ]
     },
     "execution_count": 28,
     "metadata": {},
     "output_type": "execute_result"
    }
   ],
   "source": [
    "#Logistic Regression with Labeled Data + Captions\n",
    "i=0\n",
    "\n",
    "#Read file\n",
    "df = pd.read_csv(\"Labeled Geo Data.csv\")\n",
    "df['description + labels'] = df['description'] + df['Image Labels']\n",
    "df = df[['BinEngagementScore','description + labels']]\n",
    "df = df.rename(columns={\"BinEngagementScore\":\"binary\",\"description + labels\":\"text\"})\n",
    "\n",
    "def remove_punctuation(s):\n",
    "    no_punct = \"\"\n",
    "    for letter in s:\n",
    "        if letter not in string_punctuation:\n",
    "            no_punct += letter\n",
    "    return no_punct\n",
    "\n",
    "#Read the text column---Last Column (Assumption)\n",
    "string_punctuation = '''()-[]{};:'\"\\,<>./?@#$%^&*_~1234567890'''\n",
    "stop = stopwords.words('english')\n",
    "df.iloc[ :, -1] = df.iloc[ :, -1].apply(lambda x: ' '.join([word for word in x.split() if word not in (stop)]))\n",
    "\n",
    "for row in df['text']:\n",
    "    df.iloc[ i, -1] = remove_punctuation(row)\n",
    "    i=i+1\n",
    "df['text'] = df['text'].str.replace(\"!\",\" !\")\n",
    "df['text'] = df['text'].apply(word_tokenize)\n",
    "df['text'] = df['text'].apply(lambda x: [stemmer.stem(y) for y in x])\n",
    "df['text'] = df['text'].apply(lambda x : \" \".join(x))\n",
    "Text_Column = df.iloc[ :, -1:]\n",
    "#Get TFIDF Scores\n",
    "sklearn_tfidf = TfidfVectorizer(min_df=.01, max_df =.95, stop_words=\"english\",use_idf=True, smooth_idf=False, sublinear_tf=True)\n",
    "sklearn_representation = sklearn_tfidf.fit_transform(Text_Column.iloc[:, 0].tolist())\n",
    "Tfidf_Output = pd.DataFrame(sklearn_representation.toarray(), columns=sklearn_tfidf.get_feature_names_out())\n",
    "\n",
    "#Append the column to the final dataset\n",
    "Input = pd.concat([df, Tfidf_Output], axis=1)\n",
    "Input = Input.drop(['text'], axis=1)    #python changed dropping columns\n",
    "# Input = Input.drop(['fit'], axis=1) #edited this out of Baruas code\n",
    "\n",
    "#split into training: 60 and testing set: 40\n",
    "train, test = train_test_split(Input, train_size = 0.6,random_state=1)\n",
    "X = Input.loc[:, Input.columns != 'binary']\n",
    "Y = Input['binary']\n",
    "X_test = test.loc[:, Input.columns != 'binary']\n",
    "Y_test = test['binary']\n",
    "\n",
    "#Logit Regression\n",
    "classifier = LogisticRegression()\n",
    "classifier.fit(X, Y)\n",
    "Y_pred = classifier.predict(X_test)\n",
    "\n",
    "Y_pred = model_selection.cross_val_predict(classifier, X, Y, cv=5)\n",
    "\n",
    "# Confusion matrix\n",
    "conf_matrix = confusion_matrix((np.array(Y)), Y_pred)\n",
    "conf_matrix"
   ]
  },
  {
   "cell_type": "code",
   "execution_count": 29,
   "metadata": {},
   "outputs": [
    {
     "data": {
      "image/png": "[encoded data removed]",
      "text/plain": [
       "<Figure size 750x750 with 1 Axes>"
      ]
     },
     "metadata": {},
     "output_type": "display_data"
    },
    {
     "name": "stdout",
     "output_type": "stream",
     "text": [
      "The TFID accuracy using the Combined Captions and Labels is 0.7319\n"
     ]
    }
   ],
   "source": [
    "# Plot Confusion Matrix\n",
    "fig, ax = plt.subplots(figsize=(7.5, 7.5))\n",
    "ax.matshow(conf_matrix, cmap=plt.cm.Greens, alpha=0.3)\n",
    "for i in range(conf_matrix.shape[0]):\n",
    "    for j in range(conf_matrix.shape[1]):\n",
    "        ax.text(x=j, y=i,s=conf_matrix[i, j], va='center', ha='center', size='xx-large')\n",
    " \n",
    "plt.xlabel('Predictions', fontsize=18)\n",
    "plt.ylabel('Actuals', fontsize=18)\n",
    "plt.title('Captions + Labels Confusion Matrix', fontsize=18)\n",
    "plt.show()\n",
    "acc = accuracy_score(Y,Y_pred)\n",
    "print(\"The TFID accuracy using the Combined Captions and Labels is\",round(acc,4))"
   ]
  },
  {
   "cell_type": "markdown",
   "metadata": {},
   "source": [
    "<strong> Regression Assessment </strong>\n",
    "</br>\n",
    "Looking at the accuracies of the different logistic regressions that are using Image Captions, Image Labels, and the combinations of both, image labels get a higher accuracy than just the post captions. Using image labels by themselves are great because they use Google Vision and Google's machine learning models that are fed billions of images and perhaps more to create very accurate models to classify images. Using a combination of both labels and Image Captions gets a higher accuracy than the others by themselves. It would be beneficial for NatGeo to use both Image captions and post descriptions to optimize and increase the accuracy of the Logistic Regression for predicting high engagement posts."
   ]
  },
  {
   "cell_type": "markdown",
   "metadata": {},
   "source": [
    "## Task C - Topic Modeling"
   ]
  },
  {
   "cell_type": "markdown",
   "metadata": {},
   "source": [
    "### Topic Modeling"
   ]
  },
  {
   "cell_type": "code",
   "execution_count": 3,
   "metadata": {},
   "outputs": [
    {
     "name": "stderr",
     "output_type": "stream",
     "text": [
      "[nltk_data] Downloading package stopwords to\n",
      "[nltk_data]     /Users/domitillechambon/nltk_data...\n",
      "[nltk_data]   Package stopwords is already up-to-date!\n",
      "[nltk_data] Downloading package punkt to\n",
      "[nltk_data]     /Users/domitillechambon/nltk_data...\n",
      "[nltk_data]   Package punkt is already up-to-date!\n",
      "[nltk_data] Downloading package wordnet to\n",
      "[nltk_data]     /Users/domitillechambon/nltk_data...\n",
      "[nltk_data]   Package wordnet is already up-to-date!\n"
     ]
    },
    {
     "data": {
      "text/plain": [
       "True"
      ]
     },
     "execution_count": 3,
     "metadata": {},
     "output_type": "execute_result"
    }
   ],
   "source": [
    "# Downloading packages from NLTK\n",
    "nltk.download('stopwords')\n",
    "nltk.download('punkt')\n",
    "nltk.download('wordnet')"
   ]
  },
  {
   "cell_type": "code",
   "execution_count": 4,
   "metadata": {},
   "outputs": [],
   "source": [
    "# Read in labeled data\n",
    "labelData = pd.read_csv(\"Labeled Geo Data.csv\")\n",
    "labelData[\"id\"] = range(1, len(labelData) + 1)\n",
    "\n",
    "# Creating reviews_df dataframe\n",
    "reviews_df = labelData[[\"id\", \"Image Labels\"]]\n",
    "reviews_df = reviews_df.rename(columns= {\"id\": \"id\", \"Image Labels\": \"Labels\"})"
   ]
  },
  {
   "cell_type": "code",
   "execution_count": 5,
   "metadata": {},
   "outputs": [
    {
     "name": "stdout",
     "output_type": "stream",
     "text": [
      "Number of rows with any of the empty columns:\n",
      "0\n"
     ]
    }
   ],
   "source": [
    "#checking for nulls if present any\n",
    "print(\"Number of rows with any of the empty columns:\")\n",
    "print(reviews_df.isnull().sum().sum())\n",
    "reviews_df=reviews_df.dropna()"
   ]
  },
  {
   "cell_type": "code",
   "execution_count": 6,
   "metadata": {},
   "outputs": [],
   "source": [
    "# Variables for two column names and number of topics\n",
    "restaurant_name = \"id\"\n",
    "restaurant_review = \"Labels\"\n",
    "ntopics= 5"
   ]
  },
  {
   "cell_type": "code",
   "execution_count": 7,
   "metadata": {},
   "outputs": [],
   "source": [
    "# Actualizing functions\n",
    "word_tokenizer=RegexpTokenizer(r'\\w+')\n",
    "wordnet_lemmatizer = WordNetLemmatizer()\n",
    "stopwords_nltk=set(stopwords.words('english'))"
   ]
  },
  {
   "cell_type": "code",
   "execution_count": 8,
   "metadata": {},
   "outputs": [],
   "source": [
    "# Function that tokenizes the text\n",
    "def tokenize_text(version_desc):\n",
    "    lowercase=version_desc.lower()\n",
    "    text = wordnet_lemmatizer.lemmatize(lowercase)\n",
    "    tokens = word_tokenizer.tokenize(text)\n",
    "    return tokens"
   ]
  },
  {
   "cell_type": "code",
   "execution_count": 9,
   "metadata": {},
   "outputs": [
    {
     "name": "stdout",
     "output_type": "stream",
     "text": [
      "(511, 817)\n"
     ]
    },
    {
     "name": "stderr",
     "output_type": "stream",
     "text": [
      "/Library/Frameworks/Python.framework/Versions/3.10/lib/python3.10/site-packages/sklearn/feature_extraction/text.py:404: UserWarning: Your stop_words may be inconsistent with your preprocessing. Tokenizing the stop words generated tokens ['doe', 'ha', 'wa'] not in stop_words.\n",
      "  warnings.warn(\n"
     ]
    }
   ],
   "source": [
    "# Word to Vec variable created and total number of feeatures and words\n",
    "vec_words = CountVectorizer(tokenizer=tokenize_text,stop_words=stopwords_nltk,decode_error='ignore')\n",
    "total_features_words = vec_words.fit_transform(reviews_df[restaurant_review])\n",
    "\n",
    "print(total_features_words.shape)"
   ]
  },
  {
   "cell_type": "code",
   "execution_count": 10,
   "metadata": {},
   "outputs": [
    {
     "name": "stderr",
     "output_type": "stream",
     "text": [
      "INFO:lda:n_documents: 511\n",
      "INFO:lda:vocab_size: 817\n",
      "INFO:lda:n_words: 6257\n",
      "INFO:lda:n_topics: 5\n",
      "INFO:lda:n_iter: 500\n",
      "WARNING:lda:all zero row in document-term matrix found\n",
      "INFO:lda:<0> log likelihood: -56040\n",
      "INFO:lda:<10> log likelihood: -39137\n",
      "INFO:lda:<20> log likelihood: -37919\n",
      "INFO:lda:<30> log likelihood: -37252\n",
      "INFO:lda:<40> log likelihood: -36838\n",
      "INFO:lda:<50> log likelihood: -36720\n",
      "INFO:lda:<60> log likelihood: -36733\n",
      "INFO:lda:<70> log likelihood: -36755\n",
      "INFO:lda:<80> log likelihood: -36585\n",
      "INFO:lda:<90> log likelihood: -36534\n",
      "INFO:lda:<100> log likelihood: -36420\n",
      "INFO:lda:<110> log likelihood: -36300\n",
      "INFO:lda:<120> log likelihood: -36428\n",
      "INFO:lda:<130> log likelihood: -36369\n",
      "INFO:lda:<140> log likelihood: -36295\n",
      "INFO:lda:<150> log likelihood: -36335\n",
      "INFO:lda:<160> log likelihood: -36346\n",
      "INFO:lda:<170> log likelihood: -36369\n",
      "INFO:lda:<180> log likelihood: -36372\n",
      "INFO:lda:<190> log likelihood: -36300\n",
      "INFO:lda:<200> log likelihood: -36242\n",
      "INFO:lda:<210> log likelihood: -36199\n",
      "INFO:lda:<220> log likelihood: -36181\n",
      "INFO:lda:<230> log likelihood: -36212\n",
      "INFO:lda:<240> log likelihood: -36193\n",
      "INFO:lda:<250> log likelihood: -36058\n",
      "INFO:lda:<260> log likelihood: -36124\n",
      "INFO:lda:<270> log likelihood: -36080\n",
      "INFO:lda:<280> log likelihood: -36145\n",
      "INFO:lda:<290> log likelihood: -36152\n",
      "INFO:lda:<300> log likelihood: -36108\n",
      "INFO:lda:<310> log likelihood: -36164\n",
      "INFO:lda:<320> log likelihood: -36134\n",
      "INFO:lda:<330> log likelihood: -36084\n",
      "INFO:lda:<340> log likelihood: -36149\n",
      "INFO:lda:<350> log likelihood: -36097\n",
      "INFO:lda:<360> log likelihood: -36055\n",
      "INFO:lda:<370> log likelihood: -36141\n",
      "INFO:lda:<380> log likelihood: -36012\n",
      "INFO:lda:<390> log likelihood: -36068\n",
      "INFO:lda:<400> log likelihood: -36076\n",
      "INFO:lda:<410> log likelihood: -36020\n",
      "INFO:lda:<420> log likelihood: -36027\n",
      "INFO:lda:<430> log likelihood: -36036\n",
      "INFO:lda:<440> log likelihood: -36108\n",
      "INFO:lda:<450> log likelihood: -36022\n",
      "INFO:lda:<460> log likelihood: -36015\n",
      "INFO:lda:<470> log likelihood: -36106\n",
      "INFO:lda:<480> log likelihood: -36062\n",
      "INFO:lda:<490> log likelihood: -36101\n",
      "INFO:lda:<499> log likelihood: -36108\n"
     ]
    },
    {
     "data": {
      "text/plain": [
       "<lda.lda.LDA at 0x17c1d8280>"
      ]
     },
     "execution_count": 10,
     "metadata": {},
     "output_type": "execute_result"
    }
   ],
   "source": [
    "# Actualizing the model\n",
    "model = lda.LDA(n_topics=int(ntopics), n_iter=500, random_state=1)\n",
    "model.fit(total_features_words)"
   ]
  },
  {
   "cell_type": "code",
   "execution_count": 11,
   "metadata": {},
   "outputs": [],
   "source": [
    "topic_word = model.topic_word_\n",
    "doc_topic=model.doc_topic_\n",
    "doc_topic=pd.DataFrame(doc_topic)\n",
    "reviews_df=reviews_df.join(doc_topic)\n",
    "restaurant=pd.DataFrame()"
   ]
  },
  {
   "cell_type": "code",
   "execution_count": 12,
   "metadata": {},
   "outputs": [],
   "source": [
    "for i in range(int(ntopics)):\n",
    "    topic=\"topic_\"+str(i)\n",
    "    restaurant[topic]=reviews_df.groupby([restaurant_name])[i].mean()"
   ]
  },
  {
   "cell_type": "code",
   "execution_count": 13,
   "metadata": {},
   "outputs": [
    {
     "name": "stdout",
     "output_type": "stream",
     "text": [
      "Topics word distribution written in file topic_word_dist.csv \n",
      "Document topic distribution written in file document_topic_dist.csv \n"
     ]
    },
    {
     "name": "stderr",
     "output_type": "stream",
     "text": [
      "/Library/Frameworks/Python.framework/Versions/3.10/lib/python3.10/site-packages/sklearn/utils/deprecation.py:87: FutureWarning: Function get_feature_names is deprecated; get_feature_names is deprecated in 1.0 and will be removed in 1.2. Please use get_feature_names_out instead.\n",
      "  warnings.warn(msg, category=FutureWarning)\n"
     ]
    }
   ],
   "source": [
    "restaurant=restaurant.reset_index()\n",
    "topics=pd.DataFrame(topic_word)\n",
    "topics.columns=vec_words.get_feature_names()\n",
    "topics1=topics.transpose()\n",
    "print (\"Topics word distribution written in file topic_word_dist.csv \")\n",
    "topics1.to_csv(\"topic_word_dist.csv\")\n",
    "restaurant.to_csv(\"document_topic_dist.csv\",index=False)\n",
    "print (\"Document topic distribution written in file document_topic_dist.csv \")"
   ]
  },
  {
   "cell_type": "markdown",
   "metadata": {},
   "source": [
    "### Quartile & Topic Weights"
   ]
  },
  {
   "cell_type": "code",
   "execution_count": 14,
   "metadata": {},
   "outputs": [
    {
     "name": "stdout",
     "output_type": "stream",
     "text": [
      "First quartile: 0.25    0.044681\n",
      "Name: EngagementScore, dtype: float64\n",
      "Third quartile: 0.75    0.092231\n",
      "Name: EngagementScore, dtype: float64\n"
     ]
    }
   ],
   "source": [
    "# Finding first and third quartiles\n",
    "print(\"First quartile:\", labelData.EngagementScore.quantile([.25]))\n",
    "print(\"Third quartile:\", labelData.EngagementScore.quantile([.75]))"
   ]
  },
  {
   "cell_type": "code",
   "execution_count": 15,
   "metadata": {},
   "outputs": [],
   "source": [
    "# Setting first and third quartile scores\n",
    "firstQuartile = float(.044681)\n",
    "thirdQuartile = float(.092231)\n",
    "\n",
    "# Dataframe with values from first and third quartiles\n",
    "dfQuartile = labelData[(labelData[\"EngagementScore\"] <= firstQuartile) | (labelData[\"EngagementScore\"] >= thirdQuartile)]"
   ]
  },
  {
   "cell_type": "code",
   "execution_count": 16,
   "metadata": {},
   "outputs": [],
   "source": [
    "# Identifying quartile\n",
    "def quart(val):\n",
    "    \"\"\" Determine which quartile the image belongs to\"\"\"\n",
    "    if val >= thirdQuartile:\n",
    "        return \"third\"\n",
    "    elif val <= firstQuartile:\n",
    "        return \"first\""
   ]
  },
  {
   "cell_type": "code",
   "execution_count": 17,
   "metadata": {},
   "outputs": [
    {
     "name": "stderr",
     "output_type": "stream",
     "text": [
      "/var/folders/s5/8fq8vkds1wschn5rrzxkc8br0000gn/T/ipykernel_51279/3580295398.py:2: SettingWithCopyWarning: \n",
      "A value is trying to be set on a copy of a slice from a DataFrame.\n",
      "Try using .loc[row_indexer,col_indexer] = value instead\n",
      "\n",
      "See the caveats in the documentation: https://pandas.pydata.org/pandas-docs/stable/user_guide/indexing.html#returning-a-view-versus-a-copy\n",
      "  dfQuartile[\"Quartile\"] = dfQuartile[\"EngagementScore\"].apply(lambda x: quart(x))\n"
     ]
    }
   ],
   "source": [
    "# Labeling first or third quartile\n",
    "dfQuartile[\"Quartile\"] = dfQuartile[\"EngagementScore\"].apply(lambda x: quart(x))\n",
    "\n",
    "# Excluding unnecessary columns from dataframe\n",
    "dfQuartile = dfQuartile[[\"id\", \"Quartile\", \"EngagementScore\", \"BinEngagementScore\", \"Image Labels\"]]"
   ]
  },
  {
   "cell_type": "code",
   "execution_count": 18,
   "metadata": {},
   "outputs": [],
   "source": [
    "# Reading in topic modeling csv\n",
    "topicModels = pd.read_csv(\"document_topic_dist.csv\")\n",
    "\n",
    "# List of IDs in quartile dataframe\n",
    "quartileIDlist = list(dfQuartile[\"id\"])\n",
    "\n",
    "# Removing rows that aren't in ID list\n",
    "topicModels = topicModels[topicModels[\"id\"].isin(quartileIDlist)]\n",
    "\n",
    "# Concatenating two dataframes\n",
    "dfComb = pd.concat([dfQuartile, topicModels], axis= 1)\n",
    "\n",
    "# Removing unnecessary columns\n",
    "dfComb = dfComb[[\"Quartile\", \"topic_0\", \"topic_1\", \"topic_2\", \"topic_3\", \"topic_4\"]]"
   ]
  },
  {
   "cell_type": "code",
   "execution_count": 19,
   "metadata": {},
   "outputs": [],
   "source": [
    "# Averaging topic values and grouping by first and third quartile\n",
    "dfAverage = dfComb.groupby(\"Quartile\").mean()"
   ]
  },
  {
   "cell_type": "code",
   "execution_count": 20,
   "metadata": {},
   "outputs": [
    {
     "data": {
      "text/html": [
       "<div>\n",
       "<style scoped>\n",
       "    .dataframe tbody tr th:only-of-type {\n",
       "        vertical-align: middle;\n",
       "    }\n",
       "\n",
       "    .dataframe tbody tr th {\n",
       "        vertical-align: top;\n",
       "    }\n",
       "\n",
       "    .dataframe thead th {\n",
       "        text-align: right;\n",
       "    }\n",
       "</style>\n",
       "<table border=\"1\" class=\"dataframe\">\n",
       "  <thead>\n",
       "    <tr style=\"text-align: right;\">\n",
       "      <th></th>\n",
       "      <th>topic_0</th>\n",
       "      <th>topic_1</th>\n",
       "      <th>topic_2</th>\n",
       "      <th>topic_3</th>\n",
       "      <th>topic_4</th>\n",
       "    </tr>\n",
       "    <tr>\n",
       "      <th>Quartile</th>\n",
       "      <th></th>\n",
       "      <th></th>\n",
       "      <th></th>\n",
       "      <th></th>\n",
       "      <th></th>\n",
       "    </tr>\n",
       "  </thead>\n",
       "  <tbody>\n",
       "    <tr>\n",
       "      <th>first</th>\n",
       "      <td>0.250614</td>\n",
       "      <td>0.308500</td>\n",
       "      <td>0.230378</td>\n",
       "      <td>0.171797</td>\n",
       "      <td>0.038711</td>\n",
       "    </tr>\n",
       "    <tr>\n",
       "      <th>third</th>\n",
       "      <td>0.179272</td>\n",
       "      <td>0.076586</td>\n",
       "      <td>0.184044</td>\n",
       "      <td>0.271103</td>\n",
       "      <td>0.288995</td>\n",
       "    </tr>\n",
       "  </tbody>\n",
       "</table>\n",
       "</div>"
      ],
      "text/plain": [
       "           topic_0   topic_1   topic_2   topic_3   topic_4\n",
       "Quartile                                                  \n",
       "first     0.250614  0.308500  0.230378  0.171797  0.038711\n",
       "third     0.179272  0.076586  0.184044  0.271103  0.288995"
      ]
     },
     "execution_count": 20,
     "metadata": {},
     "output_type": "execute_result"
    }
   ],
   "source": [
    "# Average topic values per 2 quartiles pre topic naming\n",
    "dfAverage"
   ]
  },
  {
   "cell_type": "code",
   "execution_count": 30,
   "metadata": {},
   "outputs": [],
   "source": [
    "# Renaming topics to believed categories\n",
    "dfAverage = dfAverage.rename(columns= {\"topic_0\": \"Wedding\", \"topic_1\": \"Car Garage\", \"topic_2\": \"Mountain Range/Glacier\", \"topic_3\": \"Forest & Sky\", \"topic_4\": \"Big Cats\"})"
   ]
  },
  {
   "cell_type": "code",
   "execution_count": 31,
   "metadata": {},
   "outputs": [
    {
     "data": {
      "text/html": [
       "<div>\n",
       "<style scoped>\n",
       "    .dataframe tbody tr th:only-of-type {\n",
       "        vertical-align: middle;\n",
       "    }\n",
       "\n",
       "    .dataframe tbody tr th {\n",
       "        vertical-align: top;\n",
       "    }\n",
       "\n",
       "    .dataframe thead th {\n",
       "        text-align: right;\n",
       "    }\n",
       "</style>\n",
       "<table border=\"1\" class=\"dataframe\">\n",
       "  <thead>\n",
       "    <tr style=\"text-align: right;\">\n",
       "      <th></th>\n",
       "      <th>Wedding</th>\n",
       "      <th>Car Garage</th>\n",
       "      <th>Mountain Range/Glacier</th>\n",
       "      <th>Forest &amp; Sky</th>\n",
       "      <th>Big Cats</th>\n",
       "    </tr>\n",
       "    <tr>\n",
       "      <th>Quartile</th>\n",
       "      <th></th>\n",
       "      <th></th>\n",
       "      <th></th>\n",
       "      <th></th>\n",
       "      <th></th>\n",
       "    </tr>\n",
       "  </thead>\n",
       "  <tbody>\n",
       "    <tr>\n",
       "      <th>first</th>\n",
       "      <td>0.250614</td>\n",
       "      <td>0.308500</td>\n",
       "      <td>0.230378</td>\n",
       "      <td>0.171797</td>\n",
       "      <td>0.038711</td>\n",
       "    </tr>\n",
       "    <tr>\n",
       "      <th>third</th>\n",
       "      <td>0.179272</td>\n",
       "      <td>0.076586</td>\n",
       "      <td>0.184044</td>\n",
       "      <td>0.271103</td>\n",
       "      <td>0.288995</td>\n",
       "    </tr>\n",
       "  </tbody>\n",
       "</table>\n",
       "</div>"
      ],
      "text/plain": [
       "           Wedding  Car Garage  Mountain Range/Glacier  Forest & Sky  Big Cats\n",
       "Quartile                                                                      \n",
       "first     0.250614    0.308500                0.230378      0.171797  0.038711\n",
       "third     0.179272    0.076586                0.184044      0.271103  0.288995"
      ]
     },
     "execution_count": 31,
     "metadata": {},
     "output_type": "execute_result"
    }
   ],
   "source": [
    "# Average topic values per 2 quartiles post topic naming\n",
    "dfAverage"
   ]
  },
  {
   "cell_type": "markdown",
   "metadata": {},
   "source": [
    "<strong> Topic Value Assessment </strong>\n",
    "</br>\n",
    "There are two significant differences between the two quartiles in regard to the following topics: Car Garage (Topic_1) and Big Cats (Topic_4). The Big Cats topic has a greater proportion in the third quartile (the highest engagement quartile); whereas, the inverse is true for Car Garage, where there is a greater proportion in the first quartile (the lower engagement quartile). There is also a marginally higher proportion of Forest & Sky (Topic_3) in third quartile. Wedding (Topic_0) and Mountain Range/Glacier (Topic_2) have slightly higher proportions in the first quartile."
   ]
  },
  {
   "cell_type": "markdown",
   "metadata": {},
   "source": [
    "## Task D - Analysis"
   ]
  },
  {
   "cell_type": "code",
   "execution_count": null,
   "metadata": {},
   "outputs": [],
   "source": []
  }
 ],
 "metadata": {
  "kernelspec": {
   "display_name": "Python 3.10.6 64-bit",
   "language": "python",
   "name": "python3"
  },
  "language_info": {
   "codemirror_mode": {
    "name": "ipython",
    "version": 3
   },
   "file_extension": ".py",
   "mimetype": "text/x-python",
   "name": "python",
   "nbconvert_exporter": "python",
   "pygments_lexer": "ipython3",
   "version": "3.10.6"
  },
  "orig_nbformat": 4,
  "vscode": {
   "interpreter": {
    "hash": "aee8b7b246df8f9039afb4144a1f6fd8d2ca17a180786b69acc140d282b71a49"
   }
  }
 },
 "nbformat": 4,
 "nbformat_minor": 2
}
